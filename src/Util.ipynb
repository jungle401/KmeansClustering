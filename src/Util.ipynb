{
 "cells": [
  {
   "cell_type": "code",
   "execution_count": 161,
   "metadata": {},
   "outputs": [],
   "source": [
    "import numpy as np\n",
    "from scipy.spatial.distance import pdist, cdist\n",
    "A = np.zeros((10,10))"
   ]
  },
  {
   "cell_type": "code",
   "execution_count": 2,
   "metadata": {},
   "outputs": [],
   "source": [
    "# print(\"util:\")\n",
    "# for idx, val in np.ndenumerate(A):\n",
    "#     print(np.array(idx), val)"
   ]
  },
  {
   "cell_type": "code",
   "execution_count": 3,
   "metadata": {
    "collapsed": true
   },
   "outputs": [
    {
     "name": "stdout",
     "output_type": "stream",
     "text": [
      "[[0 0]\n",
      " [0 1]\n",
      " [0 2]\n",
      " [0 3]\n",
      " [0 4]\n",
      " [0 5]\n",
      " [0 6]\n",
      " [0 7]\n",
      " [0 8]\n",
      " [0 9]\n",
      " [1 0]\n",
      " [1 1]\n",
      " [1 2]\n",
      " [1 3]\n",
      " [1 4]\n",
      " [1 5]\n",
      " [1 6]\n",
      " [1 7]\n",
      " [1 8]\n",
      " [1 9]\n",
      " [2 0]\n",
      " [2 1]\n",
      " [2 2]\n",
      " [2 3]\n",
      " [2 4]\n",
      " [2 5]\n",
      " [2 6]\n",
      " [2 7]\n",
      " [2 8]\n",
      " [2 9]\n",
      " [3 0]\n",
      " [3 1]\n",
      " [3 2]\n",
      " [3 3]\n",
      " [3 4]\n",
      " [3 5]\n",
      " [3 6]\n",
      " [3 7]\n",
      " [3 8]\n",
      " [3 9]\n",
      " [4 0]\n",
      " [4 1]\n",
      " [4 2]\n",
      " [4 3]\n",
      " [4 4]\n",
      " [4 5]\n",
      " [4 6]\n",
      " [4 7]\n",
      " [4 8]\n",
      " [4 9]\n",
      " [5 0]\n",
      " [5 1]\n",
      " [5 2]\n",
      " [5 3]\n",
      " [5 4]\n",
      " [5 5]\n",
      " [5 6]\n",
      " [5 7]\n",
      " [5 8]\n",
      " [5 9]\n",
      " [6 0]\n",
      " [6 1]\n",
      " [6 2]\n",
      " [6 3]\n",
      " [6 4]\n",
      " [6 5]\n",
      " [6 6]\n",
      " [6 7]\n",
      " [6 8]\n",
      " [6 9]\n",
      " [7 0]\n",
      " [7 1]\n",
      " [7 2]\n",
      " [7 3]\n",
      " [7 4]\n",
      " [7 5]\n",
      " [7 6]\n",
      " [7 7]\n",
      " [7 8]\n",
      " [7 9]\n",
      " [8 0]\n",
      " [8 1]\n",
      " [8 2]\n",
      " [8 3]\n",
      " [8 4]\n",
      " [8 5]\n",
      " [8 6]\n",
      " [8 7]\n",
      " [8 8]\n",
      " [8 9]\n",
      " [9 0]\n",
      " [9 1]\n",
      " [9 2]\n",
      " [9 3]\n",
      " [9 4]\n",
      " [9 5]\n",
      " [9 6]\n",
      " [9 7]\n",
      " [9 8]\n",
      " [9 9]]\n"
     ]
    }
   ],
   "source": [
    "B = np.array([np.array(x) for (x,y) in np.ndenumerate(A)])\n",
    "print(B)"
   ]
  },
  {
   "cell_type": "code",
   "execution_count": 4,
   "metadata": {},
   "outputs": [
    {
     "name": "stdout",
     "output_type": "stream",
     "text": [
      "[[ 0  0]\n",
      " [ 0 -1]\n",
      " [ 0 -2]\n",
      " ...\n",
      " [ 0  2]\n",
      " [ 0  1]\n",
      " [ 0  0]]\n"
     ]
    }
   ],
   "source": [
    "C = np.array([i-j for i in B for j in B])\n",
    "print(C)"
   ]
  },
  {
   "cell_type": "code",
   "execution_count": 5,
   "metadata": {},
   "outputs": [
    {
     "name": "stdout",
     "output_type": "stream",
     "text": [
      "True\n"
     ]
    }
   ],
   "source": [
    "# Compare all the elements between two array\n",
    "an_array = np.array([[1,2],[3,4]])\n",
    "another_array = np.array([[1,2],[3,4]])\n",
    "\n",
    "comparison = an_array == another_array\n",
    "equal_arrays = comparison.all()\n",
    "\n",
    "print(equal_arrays)"
   ]
  },
  {
   "cell_type": "code",
   "execution_count": 6,
   "metadata": {},
   "outputs": [],
   "source": [
    "def test1(a,b):\n",
    "    return a+b"
   ]
  },
  {
   "cell_type": "code",
   "execution_count": 7,
   "metadata": {},
   "outputs": [
    {
     "data": {
      "text/plain": [
       "3"
      ]
     },
     "execution_count": 7,
     "metadata": {},
     "output_type": "execute_result"
    }
   ],
   "source": [
    "test1(1,2)"
   ]
  },
  {
   "cell_type": "code",
   "execution_count": 8,
   "metadata": {},
   "outputs": [],
   "source": [
    "def variable_num_of_param(*varvar):\n",
    "    print(np.array(varvar).reshape(-1).shape)\n",
    "    "
   ]
  },
  {
   "cell_type": "code",
   "execution_count": 9,
   "metadata": {},
   "outputs": [
    {
     "name": "stdout",
     "output_type": "stream",
     "text": [
      "(4,)\n"
     ]
    }
   ],
   "source": [
    "list1 = ['hello', 'hi', 'Nope', 'What?']\n",
    "variable_num_of_param(list1)"
   ]
  },
  {
   "cell_type": "code",
   "execution_count": 10,
   "metadata": {
    "scrolled": true
   },
   "outputs": [
    {
     "name": "stdout",
     "output_type": "stream",
     "text": [
      "[[[ 0  0]\n",
      "  [ 0 -1]\n",
      "  [ 0 -2]\n",
      "  [-1  0]\n",
      "  [-1 -1]\n",
      "  [-1 -2]\n",
      "  [-2  0]\n",
      "  [-2 -1]\n",
      "  [-2 -2]]\n",
      "\n",
      " [[ 0  1]\n",
      "  [ 0  0]\n",
      "  [ 0 -1]\n",
      "  [-1  1]\n",
      "  [-1  0]\n",
      "  [-1 -1]\n",
      "  [-2  1]\n",
      "  [-2  0]\n",
      "  [-2 -1]]\n",
      "\n",
      " [[ 0  2]\n",
      "  [ 0  1]\n",
      "  [ 0  0]\n",
      "  [-1  2]\n",
      "  [-1  1]\n",
      "  [-1  0]\n",
      "  [-2  2]\n",
      "  [-2  1]\n",
      "  [-2  0]]\n",
      "\n",
      " [[ 1  0]\n",
      "  [ 1 -1]\n",
      "  [ 1 -2]\n",
      "  [ 0  0]\n",
      "  [ 0 -1]\n",
      "  [ 0 -2]\n",
      "  [-1  0]\n",
      "  [-1 -1]\n",
      "  [-1 -2]]\n",
      "\n",
      " [[ 1  1]\n",
      "  [ 1  0]\n",
      "  [ 1 -1]\n",
      "  [ 0  1]\n",
      "  [ 0  0]\n",
      "  [ 0 -1]\n",
      "  [-1  1]\n",
      "  [-1  0]\n",
      "  [-1 -1]]\n",
      "\n",
      " [[ 1  2]\n",
      "  [ 1  1]\n",
      "  [ 1  0]\n",
      "  [ 0  2]\n",
      "  [ 0  1]\n",
      "  [ 0  0]\n",
      "  [-1  2]\n",
      "  [-1  1]\n",
      "  [-1  0]]\n",
      "\n",
      " [[ 2  0]\n",
      "  [ 2 -1]\n",
      "  [ 2 -2]\n",
      "  [ 1  0]\n",
      "  [ 1 -1]\n",
      "  [ 1 -2]\n",
      "  [ 0  0]\n",
      "  [ 0 -1]\n",
      "  [ 0 -2]]\n",
      "\n",
      " [[ 2  1]\n",
      "  [ 2  0]\n",
      "  [ 2 -1]\n",
      "  [ 1  1]\n",
      "  [ 1  0]\n",
      "  [ 1 -1]\n",
      "  [ 0  1]\n",
      "  [ 0  0]\n",
      "  [ 0 -1]]\n",
      "\n",
      " [[ 2  2]\n",
      "  [ 2  1]\n",
      "  [ 2  0]\n",
      "  [ 1  2]\n",
      "  [ 1  1]\n",
      "  [ 1  0]\n",
      "  [ 0  2]\n",
      "  [ 0  1]\n",
      "  [ 0  0]]]\n"
     ]
    }
   ],
   "source": [
    "A = np.zeros(9).reshape(3,3)\n",
    "def make_spatial_differnce_matrix(*args):\n",
    "    img_shape = args[0]\n",
    "    wid = img_shape[0] * img_shape[1]\n",
    "    TmpMtx = np.zeros(wid).reshape(img_shape[0],img_shape[1])\n",
    "    TmpMtx = np.array([np.array(i) for (i,j) in np.ndenumerate(TmpMtx)])\n",
    "    TmpMtx = np.array([i-j for i in TmpMtx for j in TmpMtx]).reshape(wid,wid,2)\n",
    "#     print(TmpMtx.shape)\n",
    "    return TmpMtx\n",
    "D1 = make_spatial_differnce_matrix(A.shape)\n",
    "print(D1)"
   ]
  },
  {
   "cell_type": "code",
   "execution_count": 11,
   "metadata": {
    "collapsed": true
   },
   "outputs": [
    {
     "name": "stdout",
     "output_type": "stream",
     "text": [
      "[[[ 0  0]\n",
      "  [ 0 -1]\n",
      "  [ 0 -2]\n",
      "  [-1  0]\n",
      "  [-1 -1]\n",
      "  [-1 -2]\n",
      "  [-2  0]\n",
      "  [-2 -1]\n",
      "  [-2 -2]]\n",
      "\n",
      " [[ 0  1]\n",
      "  [ 0  0]\n",
      "  [ 0 -1]\n",
      "  [-1  1]\n",
      "  [-1  0]\n",
      "  [-1 -1]\n",
      "  [-2  1]\n",
      "  [-2  0]\n",
      "  [-2 -1]]\n",
      "\n",
      " [[ 0  2]\n",
      "  [ 0  1]\n",
      "  [ 0  0]\n",
      "  [-1  2]\n",
      "  [-1  1]\n",
      "  [-1  0]\n",
      "  [-2  2]\n",
      "  [-2  1]\n",
      "  [-2  0]]\n",
      "\n",
      " [[ 1  0]\n",
      "  [ 1 -1]\n",
      "  [ 1 -2]\n",
      "  [ 0  0]\n",
      "  [ 0 -1]\n",
      "  [ 0 -2]\n",
      "  [-1  0]\n",
      "  [-1 -1]\n",
      "  [-1 -2]]\n",
      "\n",
      " [[ 1  1]\n",
      "  [ 1  0]\n",
      "  [ 1 -1]\n",
      "  [ 0  1]\n",
      "  [ 0  0]\n",
      "  [ 0 -1]\n",
      "  [-1  1]\n",
      "  [-1  0]\n",
      "  [-1 -1]]\n",
      "\n",
      " [[ 1  2]\n",
      "  [ 1  1]\n",
      "  [ 1  0]\n",
      "  [ 0  2]\n",
      "  [ 0  1]\n",
      "  [ 0  0]\n",
      "  [-1  2]\n",
      "  [-1  1]\n",
      "  [-1  0]]\n",
      "\n",
      " [[ 2  0]\n",
      "  [ 2 -1]\n",
      "  [ 2 -2]\n",
      "  [ 1  0]\n",
      "  [ 1 -1]\n",
      "  [ 1 -2]\n",
      "  [ 0  0]\n",
      "  [ 0 -1]\n",
      "  [ 0 -2]]\n",
      "\n",
      " [[ 2  1]\n",
      "  [ 2  0]\n",
      "  [ 2 -1]\n",
      "  [ 1  1]\n",
      "  [ 1  0]\n",
      "  [ 1 -1]\n",
      "  [ 0  1]\n",
      "  [ 0  0]\n",
      "  [ 0 -1]]\n",
      "\n",
      " [[ 2  2]\n",
      "  [ 2  1]\n",
      "  [ 2  0]\n",
      "  [ 1  2]\n",
      "  [ 1  1]\n",
      "  [ 1  0]\n",
      "  [ 0  2]\n",
      "  [ 0  1]\n",
      "  [ 0  0]]]\n"
     ]
    }
   ],
   "source": [
    "A = np.zeros(9).reshape(3,3)\n",
    "#print(\"A:\\n\", A,\"\\n\")\n",
    "B = np.array(list([np.array(x) for (x,y) in np.ndenumerate(A)]))\n",
    "# print(B)\n",
    "# print(B.reshape(3,3,2))\n",
    "D2 = np.array([i-j for i in B for j in B]).reshape(9,9,2)\n",
    "print(D2)"
   ]
  },
  {
   "cell_type": "code",
   "execution_count": 12,
   "metadata": {},
   "outputs": [
    {
     "name": "stdout",
     "output_type": "stream",
     "text": [
      "True\n"
     ]
    }
   ],
   "source": [
    "def compare_two_matrix(A,B):\n",
    "#     A = np.array([[1,2],[3,4]])\n",
    "#     B = np.array([[1,2],[3,4]])\n",
    "\n",
    "    comparison = A == B\n",
    "    equal_arrays = comparison.all()\n",
    "\n",
    "    print(equal_arrays)\n",
    "compare_two_matrix(D1, D2)"
   ]
  },
  {
   "cell_type": "code",
   "execution_count": 13,
   "metadata": {},
   "outputs": [],
   "source": [
    "D3 = pdist(B)"
   ]
  },
  {
   "cell_type": "code",
   "execution_count": 14,
   "metadata": {},
   "outputs": [
    {
     "name": "stdout",
     "output_type": "stream",
     "text": [
      "[1.         2.         1.         1.41421356 2.23606798 2.\n",
      " 2.23606798 2.82842712 1.         1.41421356 1.         1.41421356\n",
      " 2.23606798 2.         2.23606798 2.23606798 1.41421356 1.\n",
      " 2.82842712 2.23606798 2.         1.         2.         1.\n",
      " 1.41421356 2.23606798 1.         1.41421356 1.         1.41421356\n",
      " 2.23606798 1.41421356 1.         1.         2.         1.        ]\n",
      "(36,)\n"
     ]
    }
   ],
   "source": [
    "print(D3)\n",
    "print(D3.shape)"
   ]
  },
  {
   "cell_type": "code",
   "execution_count": 15,
   "metadata": {},
   "outputs": [
    {
     "name": "stdout",
     "output_type": "stream",
     "text": [
      "[ 2  3  4  5  8  9 10 14 15 20]\n",
      "\n",
      "[[ 0.  2.  3.  4.  5.]\n",
      " [ 2.  0.  8.  9. 10.]\n",
      " [ 3.  8.  0. 14. 15.]\n",
      " [ 4.  9. 14.  0. 20.]\n",
      " [ 5. 10. 15. 20.  0.]]\n"
     ]
    }
   ],
   "source": [
    "al = np.array((2,3,4,5,8,9,10,14,15,20))\n",
    "print(al)\n",
    "print()\n",
    "n = 5\n",
    "a = np.zeros((n,n)) # Initialize nxn matrix\n",
    "triu = np.triu_indices(n, 1) # Find upper right indices of a triangular nxn matrix\n",
    "tril = np.tril_indices(n, -1) # Find lower left indices of a triangular nxn matrix\n",
    "a[triu] = al # Assign list values to upper right matrix\n",
    "a[tril] = a.T[tril] # Make the matrix symmetric\n",
    "\n",
    "print(a)"
   ]
  },
  {
   "cell_type": "code",
   "execution_count": 55,
   "metadata": {},
   "outputs": [
    {
     "name": "stdout",
     "output_type": "stream",
     "text": [
      "[[ 0  1  2  3  4  5]\n",
      " [ 6  7  8  9 10 11]\n",
      " [12 13 14 15 16 17]\n",
      " [18 19 20 21 22 23]]\n",
      "[ 2  8 14 20] [ 4 10 16 22] [ 5  2 17 23]\n",
      "[2 1 2 2]\n"
     ]
    }
   ],
   "source": [
    "A = np.arange(24).reshape(4,6)\n",
    "print(A)\n",
    "A[1,5] = 2\n",
    "# print(A[:,2], A[:,4], A[:,5])\n",
    "print(A[...,2], A[...,4], A[...,5]) # Claim to be faster\n",
    "print(np.argmax(np.array([A[...,2], A[...,4], A[...,5]]), axis=0))\n"
   ]
  },
  {
   "cell_type": "code",
   "execution_count": null,
   "metadata": {},
   "outputs": [],
   "source": []
  },
  {
   "cell_type": "code",
   "execution_count": 200,
   "metadata": {},
   "outputs": [
    {
     "name": "stdout",
     "output_type": "stream",
     "text": [
      "(4, 2)\n",
      "(1, 2)\n",
      "[[ 1  2]\n",
      " [ 1 12]]\n",
      "[[10.         13.03840481 14.14213562 17.69180601]]\n",
      "(1, 4)\n",
      "hellp\n",
      "[3 3 1]\n",
      "[[ 9.05538514 12.         12.72792206 16.2788206 ]]\n",
      "[[10.          9.48683298  0.          3.60555128]]\n",
      "[[12.16552506 11.04536102  2.82842712  1.        ]]\n",
      "[[ 9.05538514 12.         12.72792206 16.2788206 ]\n",
      " [10.          9.48683298  0.          3.60555128]\n",
      " [12.16552506 11.04536102  2.82842712  1.        ]]\n",
      "hel\n",
      "[[ 9.05538514 12.         12.72792206 16.2788206 ]\n",
      " [10.          9.48683298  0.          3.60555128]]\n",
      "[10.         12.         12.72792206 16.2788206 ]\n",
      "[1 0 0 0]\n"
     ]
    }
   ],
   "source": [
    "# Cluster_Label = np.array([0 if pdist(np.append(K[i].reshape(1,10000), Mean_Clus_1, axis=0))[0]<pdist(np.append(K[i].reshape(1,10000), Mean_Clus_2,axis=0))[0] else 1 for i in range(dpts_num)])\n",
    "A = np.array([[1,12],\n",
    "              [14,3],\n",
    "              [11,12],\n",
    "              [13,15]])\n",
    "B1 = np.array([[2,3]])\n",
    "B2 = np.array([[11,12]])\n",
    "B3 = np.array([[13,14]])\n",
    "i = 0\n",
    "M = np.array([[1,2]])\n",
    "print(A.shape)\n",
    "print(M.shape)\n",
    "# np.append(M,A,axis=0)\n",
    "print(np.array([M[0],A[0]]))\n",
    "E = cdist(M,A,'euclidean')\n",
    "print(E)\n",
    "print(E.shape)\n",
    "print(\"hellp\")\n",
    "Cluster_Label = np.array(np.argmax(np.array([A[...,1],A[...,1],A[...,0]]), axis=1))\n",
    "print(Cluster_Label)\n",
    "\n",
    "dtb1 = cdist(B1, A)\n",
    "dtb2 = cdist(B2, A)\n",
    "dtb3 = cdist(B3, A)\n",
    "\n",
    "print(dtb1)\n",
    "print(dtb2)\n",
    "print(dtb3)\n",
    "\n",
    "W = np.array([dtb1[0], dtb2[0]])\n",
    "print(np.concatenate([dtb1, dtb2, dtb3]))\n",
    "print(\"hel\")\n",
    "print(np.array([dtb1[0], dtb2[0]]))\n",
    "print(np.amax(W,0))\n",
    "print(np.argmax(W,axis=0))"
   ]
  },
  {
   "cell_type": "code",
   "execution_count": 145,
   "metadata": {},
   "outputs": [],
   "source": [
    "print(np.array([A[i], B[0]]))\n",
    "E1 = np.array([A[i], B1[0]])\n",
    "E2 = np.array([A[i], B2[0]])\n",
    "E3 = np.array([A[i], B3[0]])\n",
    "print(pdist(E1)[0],pdist(E2)[0],pdist(E3)[0])\n",
    "print(max(np.array([pdist(E1),pdist(E2),pdist(E3)])))\n",
    "# print(E1,E2,E3)\n",
    "print([pdist(np.array([A[0], B1[0]]))])\n",
    "print([pdist(np.array([A[1], B1[0]]))])\n",
    "print([pdist(np.array([A[2], B1[0]]))])\n",
    "\n",
    "pdist(B1,A )\n",
    "# print(pdist(np.array([A[i], B1[0]])))"
   ]
  },
  {
   "cell_type": "code",
   "execution_count": 147,
   "metadata": {},
   "outputs": [],
   "source": [
    "# from random import Random\n",
    "# X = rand(3,2);\n",
    "# Y = rand(3,2);\n",
    "# pdist(X,Y)"
   ]
  },
  {
   "cell_type": "code",
   "execution_count": 202,
   "metadata": {},
   "outputs": [
    {
     "ename": "ModuleNotFoundError",
     "evalue": "No module named 'imageio'",
     "output_type": "error",
     "traceback": [
      "\u001b[0;31m---------------------------------------------------------------------------\u001b[0m",
      "\u001b[0;31mModuleNotFoundError\u001b[0m                       Traceback (most recent call last)",
      "\u001b[0;32m<ipython-input-202-6b59346b5da9>\u001b[0m in \u001b[0;36m<module>\u001b[0;34m\u001b[0m\n\u001b[0;32m----> 1\u001b[0;31m \u001b[0;32mimport\u001b[0m \u001b[0mimageio\u001b[0m\u001b[0;34m\u001b[0m\u001b[0;34m\u001b[0m\u001b[0m\n\u001b[0m\u001b[1;32m      2\u001b[0m \u001b[0mimages\u001b[0m \u001b[0;34m=\u001b[0m \u001b[0;34m[\u001b[0m\u001b[0;34m]\u001b[0m\u001b[0;34m\u001b[0m\u001b[0;34m\u001b[0m\u001b[0m\n\u001b[1;32m      3\u001b[0m \u001b[0;32mfor\u001b[0m \u001b[0mfilename\u001b[0m \u001b[0;32min\u001b[0m \u001b[0mfilenames\u001b[0m\u001b[0;34m:\u001b[0m\u001b[0;34m\u001b[0m\u001b[0;34m\u001b[0m\u001b[0m\n\u001b[1;32m      4\u001b[0m     \u001b[0mimages\u001b[0m\u001b[0;34m.\u001b[0m\u001b[0mappend\u001b[0m\u001b[0;34m(\u001b[0m\u001b[0mimageio\u001b[0m\u001b[0;34m.\u001b[0m\u001b[0mimread\u001b[0m\u001b[0;34m(\u001b[0m\u001b[0mfilename\u001b[0m\u001b[0;34m)\u001b[0m\u001b[0;34m)\u001b[0m\u001b[0;34m\u001b[0m\u001b[0;34m\u001b[0m\u001b[0m\n\u001b[1;32m      5\u001b[0m \u001b[0mimageio\u001b[0m\u001b[0;34m.\u001b[0m\u001b[0mmimsave\u001b[0m\u001b[0;34m(\u001b[0m\u001b[0;34m'/path/to/movie.gif'\u001b[0m\u001b[0;34m,\u001b[0m \u001b[0mimages\u001b[0m\u001b[0;34m)\u001b[0m\u001b[0;34m\u001b[0m\u001b[0;34m\u001b[0m\u001b[0m\n",
      "\u001b[0;31mModuleNotFoundError\u001b[0m: No module named 'imageio'"
     ]
    }
   ],
   "source": [
    "import imageio\n",
    "images = []\n",
    "for filename in filenames:\n",
    "    images.append(imageio.imread(filename))\n",
    "imageio.mimsave('/path/to/movie.gif', images)\n"
   ]
  },
  {
   "cell_type": "code",
   "execution_count": null,
   "metadata": {},
   "outputs": [],
   "source": []
  }
 ],
 "metadata": {
  "kernelspec": {
   "display_name": "Python 3",
   "language": "python",
   "name": "python3"
  },
  "language_info": {
   "codemirror_mode": {
    "name": "ipython",
    "version": 3
   },
   "file_extension": ".py",
   "mimetype": "text/x-python",
   "name": "python",
   "nbconvert_exporter": "python",
   "pygments_lexer": "ipython3",
   "version": "3.8.6"
  }
 },
 "nbformat": 4,
 "nbformat_minor": 4
}
